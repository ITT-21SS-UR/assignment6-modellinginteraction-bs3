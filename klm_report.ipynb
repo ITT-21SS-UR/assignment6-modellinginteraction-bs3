{
 "metadata": {
  "language_info": {
   "codemirror_mode": {
    "name": "ipython",
    "version": 3
   },
   "file_extension": ".py",
   "mimetype": "text/x-python",
   "name": "python",
   "nbconvert_exporter": "python",
   "pygments_lexer": "ipython3",
   "version": "3.8.5"
  },
  "orig_nbformat": 2,
  "kernelspec": {
   "name": "python385jvsc74a57bd0916dbcbb3f70747c44a77c7bcd40155683ae19c65e1c03b4aa3499c5328201f1",
   "display_name": "Python 3.8.5 64-bit"
  },
  "metadata": {
   "interpreter": {
    "hash": "916dbcbb3f70747c44a77c7bcd40155683ae19c65e1c03b4aa3499c5328201f1"
   }
  }
 },
 "nbformat": 4,
 "nbformat_minor": 2,
 "cells": [
  {
   "cell_type": "code",
   "execution_count": null,
   "metadata": {},
   "outputs": [],
   "source": [
    "# Script was written by Erik Blank and Michael Schmidt"
   ]
  },
  {
   "source": [
    "# Experiment: Task Completion Times Prediction\n",
    "Our experiment compares the average operation duration completion for a standard calculator with 18 operations (which can be used both with a mouse or a keyboard), in comparison to the estimated operation times after Kieras (2011) KLM to estimate execution times. "
   ],
   "cell_type": "markdown",
   "metadata": {}
  },
  {
   "source": [
    "## Test Design\n",
    "The experiment begins with an introduction to the calculator GUI and the functions of each button or rather keys. After that, each participant gets 1 minute to get familiar with the usage of the tool. Afterwards each participant gets one of the four tasks (random) and has to complete the task. After he finishes one task, the participant gets a one minute break and the trail gets repeated with the next task (again random).\n",
    "\n",
    "Independent variables: Order of the tasks\n",
    "Dependent variables: Duration for task completion\n",
    "Controlled variables: Mouse, keyboard, monitor, calculator GUI, environment"
   ],
   "cell_type": "markdown",
   "metadata": {}
  },
  {
   "source": [
    "## Participants\n",
    "To conduct the study we got two participants. Both of them were male with a background in “Production Automation and Optimization”. The age interval was from 23 - 25. Every participant was profound in the usage of a calculator and working with a computer. Also every participant was capable of the mental math challenges."
   ],
   "cell_type": "markdown",
   "metadata": {}
  },
  {
   "source": [
    "## Mitigating confounding/random variables\n",
    "Random variable: GUI layout, participants\n",
    "Confounding variables: Learning effect, fatigue\n",
    "\n",
    "The GUI layout of the calculator is to a degree in a random order. The number layout was taken from conventional calculators, but the exact position of each operation button was not thought out. This could have been optimized by placing buttons which get pressed often one after another in the same area.\n",
    "\n",
    "The chosen participants are somehow identical in the background and their knowledge of mathematics. This was intended to minimize factors like for instance duration of the mental act of thinking which math operations needs to be instructed first.\n",
    "\n",
    "To tackle the learning effect, after each participant gets comfortable using the calculator, each participant gets 1 minute of free time with the tool to get familiar with it. After that the learning curve should be mitigated.\n",
    "\n",
    "To minimize the fatigue, each participant gets a one minute break after he finishes a task."
   ],
   "cell_type": "markdown",
   "metadata": {}
  },
  {
   "source": [
    "## Results"
   ],
   "cell_type": "markdown",
   "metadata": {}
  },
  {
   "source": [],
   "cell_type": "markdown",
   "metadata": {}
  },
  {
   "cell_type": "code",
   "execution_count": 1,
   "metadata": {},
   "outputs": [
    {
     "output_type": "error",
     "ename": "SyntaxError",
     "evalue": "invalid syntax (<ipython-input-1-293dc7ab7c8c>, line 2)",
     "traceback": [
      "\u001b[0;36m  File \u001b[0;32m\"<ipython-input-1-293dc7ab7c8c>\"\u001b[0;36m, line \u001b[0;32m2\u001b[0m\n\u001b[0;31m    cardEstimateTask1 =\u001b[0m\n\u001b[0m                        ^\u001b[0m\n\u001b[0;31mSyntaxError\u001b[0m\u001b[0;31m:\u001b[0m invalid syntax\n"
     ]
    }
   ],
   "source": [
    "# Values in milliseconds\n",
    "cardEstimateTask1 = \n",
    "cardEstimateTask2 = \n",
    "cardEstimateTask3 = \n",
    "cardEstimateTask4 = "
   ]
  },
  {
   "cell_type": "code",
   "execution_count": null,
   "metadata": {},
   "outputs": [],
   "source": [
    "# Values in milliseconds\n",
    "ownEstimateTask1 = \n",
    "ownEstimateTask2 = \n",
    "ownEstimateTask3 = \n",
    "ownEstimateTask4 = "
   ]
  },
  {
   "cell_type": "code",
   "execution_count": 2,
   "metadata": {},
   "outputs": [
    {
     "output_type": "error",
     "ename": "SyntaxError",
     "evalue": "invalid syntax (<ipython-input-2-7afac06e2dc7>, line 2)",
     "traceback": [
      "\u001b[0;36m  File \u001b[0;32m\"<ipython-input-2-7afac06e2dc7>\"\u001b[0;36m, line \u001b[0;32m2\u001b[0m\n\u001b[0;31m    avgParticipantsTask1 =\u001b[0m\n\u001b[0m                           ^\u001b[0m\n\u001b[0;31mSyntaxError\u001b[0m\u001b[0;31m:\u001b[0m invalid syntax\n"
     ]
    }
   ],
   "source": [
    "# Actual participants values average\n",
    "avgParticipantsTask1 = \n",
    "avgParticipantsTask2 = \n",
    "avgParticipantsTask3 = \n",
    "avgParticipantsTask4 ="
   ]
  }
 ]
}