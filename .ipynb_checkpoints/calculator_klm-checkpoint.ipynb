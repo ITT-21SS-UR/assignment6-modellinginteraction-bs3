{
 "cells": [
  {
   "cell_type": "code",
   "execution_count": 2,
   "id": "built-restaurant",
   "metadata": {},
   "outputs": [],
   "source": [
    "import pandas as pd\n",
    "from datetime import datetime"
   ]
  },
  {
   "cell_type": "code",
   "execution_count": 3,
   "id": "powerful-praise",
   "metadata": {},
   "outputs": [
    {
     "data": {
      "text/html": [
       "<div>\n",
       "<style scoped>\n",
       "    .dataframe tbody tr th:only-of-type {\n",
       "        vertical-align: middle;\n",
       "    }\n",
       "\n",
       "    .dataframe tbody tr th {\n",
       "        vertical-align: top;\n",
       "    }\n",
       "\n",
       "    .dataframe thead th {\n",
       "        text-align: right;\n",
       "    }\n",
       "</style>\n",
       "<table border=\"1\" class=\"dataframe\">\n",
       "  <thead>\n",
       "    <tr style=\"text-align: right;\">\n",
       "      <th></th>\n",
       "      <th>timestamp</th>\n",
       "      <th>event</th>\n",
       "    </tr>\n",
       "  </thead>\n",
       "  <tbody>\n",
       "    <tr>\n",
       "      <th>0</th>\n",
       "      <td>2021-05-25 23:47:47.882137</td>\n",
       "      <td>mouseClick</td>\n",
       "    </tr>\n",
       "    <tr>\n",
       "      <th>1</th>\n",
       "      <td>2021-05-25 23:47:48.461719</td>\n",
       "      <td>mouseClick</td>\n",
       "    </tr>\n",
       "    <tr>\n",
       "      <th>2</th>\n",
       "      <td>2021-05-25 23:47:49.047328</td>\n",
       "      <td>mouseClick</td>\n",
       "    </tr>\n",
       "    <tr>\n",
       "      <th>3</th>\n",
       "      <td>2021-05-25 23:47:49.848720</td>\n",
       "      <td>mouseClick</td>\n",
       "    </tr>\n",
       "    <tr>\n",
       "      <th>4</th>\n",
       "      <td>2021-05-25 23:47:51.782851</td>\n",
       "      <td>mouseClick</td>\n",
       "    </tr>\n",
       "    <tr>\n",
       "      <th>...</th>\n",
       "      <td>...</td>\n",
       "      <td>...</td>\n",
       "    </tr>\n",
       "    <tr>\n",
       "      <th>67</th>\n",
       "      <td>2021-05-25 23:48:22.239119</td>\n",
       "      <td>mouseClick</td>\n",
       "    </tr>\n",
       "    <tr>\n",
       "      <th>68</th>\n",
       "      <td>2021-05-25 23:48:23.987178</td>\n",
       "      <td>mouseClick</td>\n",
       "    </tr>\n",
       "    <tr>\n",
       "      <th>69</th>\n",
       "      <td>2021-05-25 23:48:24.681410</td>\n",
       "      <td>mouseClick</td>\n",
       "    </tr>\n",
       "    <tr>\n",
       "      <th>70</th>\n",
       "      <td>2021-05-25 23:48:25.193893</td>\n",
       "      <td>mouseClick</td>\n",
       "    </tr>\n",
       "    <tr>\n",
       "      <th>71</th>\n",
       "      <td>2021-05-25 23:48:25.837780</td>\n",
       "      <td>mouseClick</td>\n",
       "    </tr>\n",
       "  </tbody>\n",
       "</table>\n",
       "<p>72 rows × 2 columns</p>\n",
       "</div>"
      ],
      "text/plain": [
       "                     timestamp       event\n",
       "0   2021-05-25 23:47:47.882137  mouseClick\n",
       "1   2021-05-25 23:47:48.461719  mouseClick\n",
       "2   2021-05-25 23:47:49.047328  mouseClick\n",
       "3   2021-05-25 23:47:49.848720  mouseClick\n",
       "4   2021-05-25 23:47:51.782851  mouseClick\n",
       "..                         ...         ...\n",
       "67  2021-05-25 23:48:22.239119  mouseClick\n",
       "68  2021-05-25 23:48:23.987178  mouseClick\n",
       "69  2021-05-25 23:48:24.681410  mouseClick\n",
       "70  2021-05-25 23:48:25.193893  mouseClick\n",
       "71  2021-05-25 23:48:25.837780  mouseClick\n",
       "\n",
       "[72 rows x 2 columns]"
      ]
     },
     "metadata": {},
     "output_type": "display_data"
    }
   ],
   "source": [
    "df = pd.read_csv(\"./data.csv\")\n",
    "display(df)"
   ]
  },
  {
   "cell_type": "code",
   "execution_count": 7,
   "id": "convenient-communist",
   "metadata": {},
   "outputs": [
    {
     "name": "stdout",
     "output_type": "stream",
     "text": [
      "timestamp    2021-05-25 23:47:47.882137\n",
      "event                        mouseClick\n",
      "Name: 0, dtype: object\n",
      "[]\n"
     ]
    }
   ],
   "source": [
    "mouseClicks = []\n",
    "keyPresses = []\n",
    "prevEvent = \"\"\n",
    "currentList = []\n",
    "numOfData = len(df.index)\n",
    "\n",
    "for index, row in df.iterrows():\n",
    "    event = row.event\n",
    "    if prevEvent == \"\" or prevEvent == event:\n",
    "        currentList.append(row)\n",
    "    else:\n",
    "        if prevEvent == \"keyPress\":\n",
    "            keyPresses.append(currentList)\n",
    "        if prevEvent == \"mouseClick\":\n",
    "            mouseClicks.append(currentList)\n",
    "        currentList.clear()\n",
    "        currentList.append(row)\n",
    "        \n",
    "    prevEvent = event\n",
    "    \n",
    "    if index == numOfData-1:\n",
    "        if event == \"keyPress\":\n",
    "            keyPresses.append(currentList)\n",
    "        elif event == \"mouseClick\":\n",
    "            mouseClicks.append(currentList)\n",
    "        \n",
    "print(mouseClicks)\n",
    "\n",
    "\n",
    "\n",
    "\n",
    "    "
   ]
  },
  {
   "cell_type": "code",
   "execution_count": 10,
   "id": "designing-hospital",
   "metadata": {},
   "outputs": [
    {
     "data": {
      "text/plain": [
       "'2021-05-25 23:48:13.892149'"
      ]
     },
     "execution_count": 10,
     "metadata": {},
     "output_type": "execute_result"
    }
   ],
   "source": [
    "mouseClicks[0][0].timestamp"
   ]
  }
 ],
 "metadata": {
  "kernelspec": {
   "display_name": "Python 3",
   "language": "python",
   "name": "python3"
  },
  "language_info": {
   "codemirror_mode": {
    "name": "ipython",
    "version": 3
   },
   "file_extension": ".py",
   "mimetype": "text/x-python",
   "name": "python",
   "nbconvert_exporter": "python",
   "pygments_lexer": "ipython3",
   "version": "3.9.2"
  }
 },
 "nbformat": 4,
 "nbformat_minor": 5
}
