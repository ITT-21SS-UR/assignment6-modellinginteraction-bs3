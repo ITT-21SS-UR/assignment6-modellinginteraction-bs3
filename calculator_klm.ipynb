{
 "cells": [
  {
   "cell_type": "code",
   "execution_count": 2,
   "id": "built-restaurant",
   "metadata": {},
   "outputs": [],
   "source": [
    "import pandas as pd\n",
    "from datetime import datetime"
   ]
  },
  {
   "cell_type": "markdown",
   "id": "yellow-clark",
   "metadata": {},
   "source": [
    "## Rechenaufgaben zur Ermittlung der Werte\n",
    "\n",
    "Both calculations were performed consecutively with mouse and keyboard:\n",
    "\n",
    "#### 4+4-10/2*2 = \n",
    "\n",
    "#### 105*333-159+834/4+127 ="
   ]
  },
  {
   "cell_type": "code",
   "execution_count": 143,
   "id": "powerful-praise",
   "metadata": {},
   "outputs": [
    {
     "data": {
      "text/html": [
       "<div>\n",
       "<style scoped>\n",
       "    .dataframe tbody tr th:only-of-type {\n",
       "        vertical-align: middle;\n",
       "    }\n",
       "\n",
       "    .dataframe tbody tr th {\n",
       "        vertical-align: top;\n",
       "    }\n",
       "\n",
       "    .dataframe thead th {\n",
       "        text-align: right;\n",
       "    }\n",
       "</style>\n",
       "<table border=\"1\" class=\"dataframe\">\n",
       "  <thead>\n",
       "    <tr style=\"text-align: right;\">\n",
       "      <th></th>\n",
       "      <th>timestamp</th>\n",
       "      <th>event</th>\n",
       "    </tr>\n",
       "  </thead>\n",
       "  <tbody>\n",
       "    <tr>\n",
       "      <th>0</th>\n",
       "      <td>2021-05-26 21:43:43.274644</td>\n",
       "      <td>mouseClick</td>\n",
       "    </tr>\n",
       "    <tr>\n",
       "      <th>1</th>\n",
       "      <td>2021-05-26 21:43:43.927373</td>\n",
       "      <td>mouseClick</td>\n",
       "    </tr>\n",
       "    <tr>\n",
       "      <th>2</th>\n",
       "      <td>2021-05-26 21:43:44.645995</td>\n",
       "      <td>mouseClick</td>\n",
       "    </tr>\n",
       "    <tr>\n",
       "      <th>3</th>\n",
       "      <td>2021-05-26 21:43:45.452912</td>\n",
       "      <td>mouseClick</td>\n",
       "    </tr>\n",
       "    <tr>\n",
       "      <th>4</th>\n",
       "      <td>2021-05-26 21:43:46.130099</td>\n",
       "      <td>mouseClick</td>\n",
       "    </tr>\n",
       "    <tr>\n",
       "      <th>...</th>\n",
       "      <td>...</td>\n",
       "      <td>...</td>\n",
       "    </tr>\n",
       "    <tr>\n",
       "      <th>108</th>\n",
       "      <td>2021-05-26 21:44:25.226219</td>\n",
       "      <td>keyRelease</td>\n",
       "    </tr>\n",
       "    <tr>\n",
       "      <th>109</th>\n",
       "      <td>2021-05-26 21:44:25.618499</td>\n",
       "      <td>keyPress</td>\n",
       "    </tr>\n",
       "    <tr>\n",
       "      <th>110</th>\n",
       "      <td>2021-05-26 21:44:25.716099</td>\n",
       "      <td>keyRelease</td>\n",
       "    </tr>\n",
       "    <tr>\n",
       "      <th>111</th>\n",
       "      <td>2021-05-26 21:44:25.888241</td>\n",
       "      <td>keyPress</td>\n",
       "    </tr>\n",
       "    <tr>\n",
       "      <th>112</th>\n",
       "      <td>2021-05-26 21:44:26.009532</td>\n",
       "      <td>keyRelease</td>\n",
       "    </tr>\n",
       "  </tbody>\n",
       "</table>\n",
       "<p>113 rows × 2 columns</p>\n",
       "</div>"
      ],
      "text/plain": [
       "                      timestamp       event\n",
       "0    2021-05-26 21:43:43.274644  mouseClick\n",
       "1    2021-05-26 21:43:43.927373  mouseClick\n",
       "2    2021-05-26 21:43:44.645995  mouseClick\n",
       "3    2021-05-26 21:43:45.452912  mouseClick\n",
       "4    2021-05-26 21:43:46.130099  mouseClick\n",
       "..                          ...         ...\n",
       "108  2021-05-26 21:44:25.226219  keyRelease\n",
       "109  2021-05-26 21:44:25.618499    keyPress\n",
       "110  2021-05-26 21:44:25.716099  keyRelease\n",
       "111  2021-05-26 21:44:25.888241    keyPress\n",
       "112  2021-05-26 21:44:26.009532  keyRelease\n",
       "\n",
       "[113 rows x 2 columns]"
      ]
     },
     "metadata": {},
     "output_type": "display_data"
    }
   ],
   "source": [
    "df = pd.read_csv(\"./data.csv\")\n",
    "display(df)"
   ]
  },
  {
   "cell_type": "markdown",
   "id": "checked-monitor",
   "metadata": {},
   "source": [
    "## Keypress or button press (= 0.09343978378378379)"
   ]
  },
  {
   "cell_type": "code",
   "execution_count": 144,
   "id": "convenient-communist",
   "metadata": {},
   "outputs": [],
   "source": [
    "# split list into successive parts of keyEvents and add to list keyEvents\n",
    "\n",
    "keyEvents = []\n",
    "prevEvent = \"\"\n",
    "currentList = []\n",
    "numOfData = len(df.index)\n",
    "\n",
    "for index, row in df.iterrows():\n",
    "    event = row.event\n",
    "    \n",
    "    if prevEvent == \"\" and event == \"keyPress\" or event ==\"keyRelease\":\n",
    "        currentList.append(row)\n",
    "        \n",
    "    elif prevEvent == \"keyPress\" or prevEvent == \"keyRelease\" and event == \"keyPress\" or event == \"keyRelease\":\n",
    "        currentList.append(row)\n",
    "        \n",
    "    elif event == \"mouseClick\" and prevEvent != \"mouseClick\":\n",
    "        keyEvents.append(currentList.copy())\n",
    "        currentList.clear()\n",
    "        \n",
    "    prevEvent = event\n",
    "    \n",
    "    if index == len(df.index)-1:\n",
    "        if event == \"keyPress\" or event == \"keyRelease\" and prevEvent == \"keyPress\" or prevEvent == \"keyRelease\":\n",
    "            keyEvents.append(currentList.copy())\n",
    "        currentList.clear()"
   ]
  },
  {
   "cell_type": "code",
   "execution_count": 145,
   "id": "current-paragraph",
   "metadata": {},
   "outputs": [
    {
     "name": "stdout",
     "output_type": "stream",
     "text": [
      "Time to press a key: 0.09343978378378379\n"
     ]
    }
   ],
   "source": [
    "# calculate mean of every list in keyEvents\n",
    "prevRow = None\n",
    "totalTime = 0\n",
    "total = 0\n",
    "\n",
    "\n",
    "for elem in keyEvents:\n",
    "    for obj in elem:\n",
    "        if prevRow is None:\n",
    "            prevRow = obj\n",
    "        # if event is not the same with previous then calculate time and add one to total\n",
    "        elif prevRow.event == \"keyPress\" and obj.event == \"keyRelease\":\n",
    "            total += 1\n",
    "            prev = datetime.strptime(prevRow.timestamp, '%Y-%m-%d %H:%M:%S.%f')\n",
    "            now = datetime.strptime(obj.timestamp, '%Y-%m-%d %H:%M:%S.%f')\n",
    "            time = now - prev\n",
    "            totalTime += time.total_seconds()\n",
    "        \n",
    "        prevRow = obj\n",
    "        \n",
    "timeKeyPress = totalTime/total\n",
    "print(f'Time to press a key: {timeKeyPress}')"
   ]
  },
  {
   "cell_type": "markdown",
   "id": "special-banana",
   "metadata": {},
   "source": [
    "## Pointing (=0.7591515)"
   ]
  },
  {
   "cell_type": "code",
   "execution_count": 146,
   "id": "surprised-quality",
   "metadata": {},
   "outputs": [],
   "source": [
    "# split list into successive parts of mouseEvents and add to list mouseEvents\n",
    "\n",
    "mouseEvents = []\n",
    "prevEvent = \"\"\n",
    "currentList = []\n",
    "numOfData = len(df.index)\n",
    "\n",
    "for index, row in df.iterrows():\n",
    "    event = row.event\n",
    "    \n",
    "    if prevEvent == \"\" and event == \"mouseClick\":\n",
    "        currentList.append(row)\n",
    "        \n",
    "    elif prevEvent == \"mouseClick\" and event == \"mouseClick\":\n",
    "        currentList.append(row)\n",
    "        \n",
    "    elif event != \"mouseClick\" and prevEvent == \"mouseClick\":\n",
    "        mouseEvents.append(currentList.copy())\n",
    "        currentList.clear()\n",
    "        \n",
    "    prevEvent = event\n",
    "    \n",
    "    if index == len(df.index)-1:\n",
    "        if event == \"mouseClick\" and prevEvent == \"mouseClick\":\n",
    "            mouseEvents.append(currentList.copy())\n",
    "        currentList.clear()"
   ]
  },
  {
   "cell_type": "code",
   "execution_count": 147,
   "id": "polish-disco",
   "metadata": {},
   "outputs": [
    {
     "name": "stdout",
     "output_type": "stream",
     "text": [
      "Time to point with the mouse: 0.7591515\n"
     ]
    }
   ],
   "source": [
    "# calculate mean of every list in mouseEvents\n",
    "prevRow = None\n",
    "totalTime = 0\n",
    "total = 0\n",
    "\n",
    "\n",
    "for elem in mouseEvents:\n",
    "    for obj in elem:\n",
    "        if prevRow is None:\n",
    "            prevRow = obj\n",
    "        else:\n",
    "            total += 1\n",
    "            prev = datetime.strptime(prevRow.timestamp, '%Y-%m-%d %H:%M:%S.%f')\n",
    "            now = datetime.strptime(obj.timestamp, '%Y-%m-%d %H:%M:%S.%f')\n",
    "            time = now - prev\n",
    "            totalTime += time.total_seconds()\n",
    "        \n",
    "        prevRow = obj\n",
    "        \n",
    "timeMouseMove = totalTime/total\n",
    "print(f'Time to point with the mouse: {timeMouseMove}')"
   ]
  },
  {
   "cell_type": "markdown",
   "id": "biological-premiere",
   "metadata": {},
   "source": [
    "## From keyboard to mouse (=1.24934)"
   ]
  },
  {
   "cell_type": "code",
   "execution_count": 150,
   "id": "monetary-tract",
   "metadata": {},
   "outputs": [],
   "source": [
    "mouseToKeyEvents = []\n",
    "prevRow = None\n",
    "currentList = []\n",
    "numOfData = len(df.index)\n",
    "\n",
    "for index, row in df.iterrows():\n",
    "    \n",
    "    if prevRow is None:\n",
    "        prevRow = row\n",
    "    else:\n",
    "        if prevRow.event == \"mouseClick\" and row.event != \"mouseClick\":\n",
    "            mouseToKeyEvents.append([prevRow, row])\n",
    "        elif row.event == \"mouseClick\" and prevRow.event != \"mouseClick\":\n",
    "            mouseToKeyEvents.append([prevRow, row])\n",
    "        prevRow = row"
   ]
  },
  {
   "cell_type": "code",
   "execution_count": 149,
   "id": "dedicated-numbers",
   "metadata": {},
   "outputs": [
    {
     "name": "stdout",
     "output_type": "stream",
     "text": [
      "1.24934\n"
     ]
    }
   ],
   "source": [
    "total = 0\n",
    "totalTime = 0\n",
    "\n",
    "for a in mouseToKeyEvents:\n",
    "    prev = datetime.strptime(a[0].timestamp, '%Y-%m-%d %H:%M:%S.%f')\n",
    "    now = datetime.strptime(a[1].timestamp, '%Y-%m-%d %H:%M:%S.%f')\n",
    "    time = now - prev\n",
    "    total += 1\n",
    "    totalTime += time.total_seconds()\n",
    "    \n",
    "print(totalTime/total)\n",
    "\n",
    "        "
   ]
  }
 ],
 "metadata": {
  "kernelspec": {
   "display_name": "Python 3",
   "language": "python",
   "name": "python3"
  },
  "language_info": {
   "codemirror_mode": {
    "name": "ipython",
    "version": 3
   },
   "file_extension": ".py",
   "mimetype": "text/x-python",
   "name": "python",
   "nbconvert_exporter": "python",
   "pygments_lexer": "ipython3",
   "version": "3.9.2"
  }
 },
 "nbformat": 4,
 "nbformat_minor": 5
}
