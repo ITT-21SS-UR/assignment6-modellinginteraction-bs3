{
 "cells": [
  {
   "cell_type": "code",
   "execution_count": 2,
   "id": "built-restaurant",
   "metadata": {},
   "outputs": [],
   "source": [
    "import pandas as pd\n",
    "from datetime import datetime"
   ]
  },
  {
   "cell_type": "code",
   "execution_count": 3,
   "id": "powerful-praise",
   "metadata": {},
   "outputs": [
    {
     "data": {
      "text/html": [
       "<div>\n",
       "<style scoped>\n",
       "    .dataframe tbody tr th:only-of-type {\n",
       "        vertical-align: middle;\n",
       "    }\n",
       "\n",
       "    .dataframe tbody tr th {\n",
       "        vertical-align: top;\n",
       "    }\n",
       "\n",
       "    .dataframe thead th {\n",
       "        text-align: right;\n",
       "    }\n",
       "</style>\n",
       "<table border=\"1\" class=\"dataframe\">\n",
       "  <thead>\n",
       "    <tr style=\"text-align: right;\">\n",
       "      <th></th>\n",
       "      <th>timestamp</th>\n",
       "      <th>event</th>\n",
       "    </tr>\n",
       "  </thead>\n",
       "  <tbody>\n",
       "    <tr>\n",
       "      <th>0</th>\n",
       "      <td>2021-05-26 19:43:23.294025</td>\n",
       "      <td>mouseClick</td>\n",
       "    </tr>\n",
       "    <tr>\n",
       "      <th>1</th>\n",
       "      <td>2021-05-26 19:43:23.768632</td>\n",
       "      <td>mouseClick</td>\n",
       "    </tr>\n",
       "    <tr>\n",
       "      <th>2</th>\n",
       "      <td>2021-05-26 19:43:24.336424</td>\n",
       "      <td>mouseClick</td>\n",
       "    </tr>\n",
       "    <tr>\n",
       "      <th>3</th>\n",
       "      <td>2021-05-26 19:43:25.171391</td>\n",
       "      <td>mouseClick</td>\n",
       "    </tr>\n",
       "    <tr>\n",
       "      <th>4</th>\n",
       "      <td>2021-05-26 19:43:27.301625</td>\n",
       "      <td>mouseClick</td>\n",
       "    </tr>\n",
       "    <tr>\n",
       "      <th>...</th>\n",
       "      <td>...</td>\n",
       "      <td>...</td>\n",
       "    </tr>\n",
       "    <tr>\n",
       "      <th>140</th>\n",
       "      <td>2021-05-26 19:44:01.875690</td>\n",
       "      <td>mouseClick</td>\n",
       "    </tr>\n",
       "    <tr>\n",
       "      <th>141</th>\n",
       "      <td>2021-05-26 19:44:02.179112</td>\n",
       "      <td>mouseClick</td>\n",
       "    </tr>\n",
       "    <tr>\n",
       "      <th>142</th>\n",
       "      <td>2021-05-26 19:44:02.527379</td>\n",
       "      <td>mouseClick</td>\n",
       "    </tr>\n",
       "    <tr>\n",
       "      <th>143</th>\n",
       "      <td>2021-05-26 19:44:03.456492</td>\n",
       "      <td>mouseClick</td>\n",
       "    </tr>\n",
       "    <tr>\n",
       "      <th>144</th>\n",
       "      <td>2021-05-26 19:44:04.636954</td>\n",
       "      <td>mouseClick</td>\n",
       "    </tr>\n",
       "  </tbody>\n",
       "</table>\n",
       "<p>145 rows × 2 columns</p>\n",
       "</div>"
      ],
      "text/plain": [
       "                      timestamp       event\n",
       "0    2021-05-26 19:43:23.294025  mouseClick\n",
       "1    2021-05-26 19:43:23.768632  mouseClick\n",
       "2    2021-05-26 19:43:24.336424  mouseClick\n",
       "3    2021-05-26 19:43:25.171391  mouseClick\n",
       "4    2021-05-26 19:43:27.301625  mouseClick\n",
       "..                          ...         ...\n",
       "140  2021-05-26 19:44:01.875690  mouseClick\n",
       "141  2021-05-26 19:44:02.179112  mouseClick\n",
       "142  2021-05-26 19:44:02.527379  mouseClick\n",
       "143  2021-05-26 19:44:03.456492  mouseClick\n",
       "144  2021-05-26 19:44:04.636954  mouseClick\n",
       "\n",
       "[145 rows x 2 columns]"
      ]
     },
     "metadata": {},
     "output_type": "display_data"
    }
   ],
   "source": [
    "df = pd.read_csv(\"./data.csv\")\n",
    "display(df)"
   ]
  },
  {
   "cell_type": "markdown",
   "id": "waiting-express",
   "metadata": {},
   "source": [
    "## KeyPress (= 0.07633690697674417)"
   ]
  },
  {
   "cell_type": "code",
   "execution_count": 135,
   "id": "convenient-communist",
   "metadata": {},
   "outputs": [],
   "source": [
    "# split list into successive parts of keyEvents and add to list keyEvents\n",
    "\n",
    "keyEvents = []\n",
    "prevEvent = \"\"\n",
    "currentList = []\n",
    "numOfData = len(df.index)\n",
    "\n",
    "for index, row in df.iterrows():\n",
    "    event = row.event\n",
    "    \n",
    "    if prevEvent == \"\" and event == \"keyPress\" or event ==\"keyRelease\":\n",
    "        currentList.append(row)\n",
    "        \n",
    "    elif prevEvent == \"keyPress\" or prevEvent == \"keyRelease\" and event == \"keyPress\" or event == \"keyRelease\":\n",
    "        currentList.append(row)\n",
    "        \n",
    "    elif event == \"mouseClick\" and prevEvent != \"mouseClick\":\n",
    "        keyEvents.append(currentList.copy())\n",
    "        currentList.clear()\n",
    "        \n",
    "    prevEvent = event\n",
    "    \n",
    "    if index == len(df.index)-1:\n",
    "        if event == \"keyPress\" or event == \"keyRelease\" and prevEvent == \"keyPress\" or prevEvent == \"keyRelease\":\n",
    "            keyEvents.append(currentList.copy())\n",
    "        currentList.clear()"
   ]
  },
  {
   "cell_type": "code",
   "execution_count": 122,
   "id": "uniform-aircraft",
   "metadata": {},
   "outputs": [
    {
     "name": "stdout",
     "output_type": "stream",
     "text": [
      "Time to press a key: 0.07633690697674417\n"
     ]
    }
   ],
   "source": [
    "# calculate mean of every list in keyEvents\n",
    "prevRow = None\n",
    "totalTime = 0\n",
    "total = 0\n",
    "\n",
    "\n",
    "for elem in keyEvents:\n",
    "    for obj in elem:\n",
    "        if prevRow is None:\n",
    "            prevRow = obj\n",
    "        # if event is not the same with previous then calculate time and add one to total\n",
    "        elif prevRow.event == \"keyPress\" and obj.event == \"keyRelease\":\n",
    "            total += 1\n",
    "            prev = datetime.strptime(prevRow.timestamp, '%Y-%m-%d %H:%M:%S.%f')\n",
    "            now = datetime.strptime(obj.timestamp, '%Y-%m-%d %H:%M:%S.%f')\n",
    "            time = now - prev\n",
    "            totalTime += time.total_seconds()\n",
    "        \n",
    "        prevRow = obj\n",
    "        \n",
    "timeKeyPress = totalTime/total\n",
    "print(f'Time to press a key: {timeKeyPress}')"
   ]
  },
  {
   "cell_type": "markdown",
   "id": "heavy-principal",
   "metadata": {},
   "source": [
    "## Pointing (=1.117376459459459)"
   ]
  },
  {
   "cell_type": "code",
   "execution_count": 130,
   "id": "minus-baseline",
   "metadata": {},
   "outputs": [],
   "source": [
    "# split list into successive parts of mouseEvents and add to list mouseEvents\n",
    "\n",
    "mouseEvents = []\n",
    "prevEvent = \"\"\n",
    "currentList = []\n",
    "numOfData = len(df.index)\n",
    "\n",
    "for index, row in df.iterrows():\n",
    "    event = row.event\n",
    "    \n",
    "    if prevEvent == \"\" and event == \"mouseClick\":\n",
    "        currentList.append(row)\n",
    "        \n",
    "    elif prevEvent == \"mouseClick\" and event == \"mouseClick\":\n",
    "        currentList.append(row)\n",
    "        \n",
    "    elif event != \"mouseClick\" and prevEvent == \"mouseClick\":\n",
    "        mouseEvents.append(currentList.copy())\n",
    "        currentList.clear()\n",
    "        \n",
    "    prevEvent = event\n",
    "    \n",
    "    if index == len(df.index)-1:\n",
    "        if event == \"mouseClick\" and prevEvent == \"mouseClick\":\n",
    "            mouseEvents.append(currentList.copy())\n",
    "        currentList.clear()"
   ]
  },
  {
   "cell_type": "code",
   "execution_count": 134,
   "id": "changing-netscape",
   "metadata": {},
   "outputs": [
    {
     "name": "stdout",
     "output_type": "stream",
     "text": [
      "Time to point with the mouse: 1.1173764594594593\n"
     ]
    }
   ],
   "source": [
    "# calculate mean of every list in mouseEvents\n",
    "prevRow = None\n",
    "totalTime = 0\n",
    "total = 0\n",
    "\n",
    "\n",
    "for elem in mouseEvents:\n",
    "    for obj in elem:\n",
    "        if prevRow is None:\n",
    "            prevRow = obj\n",
    "        else:\n",
    "            total += 1\n",
    "            prev = datetime.strptime(prevRow.timestamp, '%Y-%m-%d %H:%M:%S.%f')\n",
    "            now = datetime.strptime(obj.timestamp, '%Y-%m-%d %H:%M:%S.%f')\n",
    "            time = now - prev\n",
    "            totalTime += time.total_seconds()\n",
    "        \n",
    "        prevRow = obj\n",
    "        \n",
    "timeMouseMove = totalTime/total\n",
    "print(f'Time to point with the mouse: {timeMouseMove}')"
   ]
  },
  {
   "cell_type": "markdown",
   "id": "composite-newman",
   "metadata": {},
   "source": [
    "## From keyboard to mouse"
   ]
  },
  {
   "cell_type": "code",
   "execution_count": 138,
   "id": "judicial-humidity",
   "metadata": {},
   "outputs": [
    {
     "name": "stdout",
     "output_type": "stream",
     "text": [
      "[[timestamp    2021-05-26 19:43:43.506413\n",
      "event                        mouseClick\n",
      "Name: 25, dtype: object, timestamp    2021-05-26 19:43:46.120061\n",
      "event                          keyPress\n",
      "Name: 26, dtype: object], [timestamp    2021-05-26 19:43:57.113534\n",
      "event                        keyRelease\n",
      "Name: 131, dtype: object, timestamp    2021-05-26 19:43:59.119401\n",
      "event                        mouseClick\n",
      "Name: 132, dtype: object]]\n"
     ]
    }
   ],
   "source": [
    "mouseToKeyEvents = []\n",
    "prevRow = None\n",
    "currentList = []\n",
    "numOfData = len(df.index)\n",
    "\n",
    "for index, row in df.iterrows():\n",
    "    \n",
    "    if prevRow is None:\n",
    "        prevRow = row\n",
    "    else:\n",
    "        if prevRow.event == \"mouseClick\" and row.event != \"mouseClick\":\n",
    "            mouseToKeyEvents.append([prevRow, row])\n",
    "        elif row.event == \"mouseClick\" and prevRow.event != \"mouseClick\":\n",
    "            mouseToKeyEvents.append([prevRow, row])\n",
    "        prevRow = row\n",
    "        \n",
    "print(mouseToKeyEvents)"
   ]
  },
  {
   "cell_type": "code",
   "execution_count": 142,
   "id": "documented-scene",
   "metadata": {},
   "outputs": [
    {
     "name": "stdout",
     "output_type": "stream",
     "text": [
      "2.3097575\n"
     ]
    }
   ],
   "source": [
    "total = 0\n",
    "totalTime = 0\n",
    "\n",
    "for a in mouseToKeyEvents:\n",
    "    prev = datetime.strptime(a[0].timestamp, '%Y-%m-%d %H:%M:%S.%f')\n",
    "    now = datetime.strptime(a[1].timestamp, '%Y-%m-%d %H:%M:%S.%f')\n",
    "    time = now - prev\n",
    "    total += 1\n",
    "    totalTime += time.total_seconds()\n",
    "    \n",
    "print(totalTime/total)\n",
    "\n",
    "        "
   ]
  }
 ],
 "metadata": {
  "kernelspec": {
   "display_name": "Python 3",
   "language": "python",
   "name": "python3"
  },
  "language_info": {
   "codemirror_mode": {
    "name": "ipython",
    "version": 3
   },
   "file_extension": ".py",
   "mimetype": "text/x-python",
   "name": "python",
   "nbconvert_exporter": "python",
   "pygments_lexer": "ipython3",
   "version": "3.9.2"
  }
 },
 "nbformat": 4,
 "nbformat_minor": 5
}
